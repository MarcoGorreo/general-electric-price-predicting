{
 "cells": [
  {
   "attachments": {},
   "cell_type": "markdown",
   "metadata": {},
   "source": [
    "# Forecasting General Eletric Stock Price with Random Forest Regressor"
   ]
  },
  {
   "attachments": {},
   "cell_type": "markdown",
   "metadata": {},
   "source": [
    "## Libraries Import\n",
    "##### Importing all libraries we will use during the project"
   ]
  },
  {
   "cell_type": "code",
   "execution_count": 38,
   "metadata": {},
   "outputs": [],
   "source": [
    "import pandas as pd\n",
    "import yfinance as yf\n",
    "import numpy as np\n",
    "import math\n",
    "import matplotlib.pyplot as plt\n",
    "import matplotlib as mpl\n",
    "import seaborn as sns\n",
    "import datetime as dt\n",
    "\n",
    "import warnings\n",
    "warnings.filterwarnings('ignore')"
   ]
  },
  {
   "attachments": {},
   "cell_type": "markdown",
   "metadata": {},
   "source": [
    "## Data Import\n",
    "##### Importing dataset containing info about General Eletric Company Stock: including price, volumes...\n",
    "\n",
    "##### Data is downloaded from Yahoo Finance Library and contains information about each trading day from 2010 \n"
   ]
  },
  {
   "cell_type": "code",
   "execution_count": 3,
   "metadata": {},
   "outputs": [],
   "source": [
    "ticker = \"GE\"\n",
    "stock = yf.Ticker(ticker)\n",
    "price_history = stock.history(period=\"1d\", start='2009-12-30')"
   ]
  },
  {
   "attachments": {},
   "cell_type": "markdown",
   "metadata": {},
   "source": [
    "##### Now we have downloaded our data, so let's give a look at the database and find out how it's organized"
   ]
  },
  {
   "cell_type": "code",
   "execution_count": 4,
   "metadata": {},
   "outputs": [
    {
     "name": "stdout",
     "output_type": "stream",
     "text": [
      "<class 'pandas.core.frame.DataFrame'>\n",
      "DatetimeIndex: 3383 entries, 2009-12-30 00:00:00-05:00 to 2023-06-08 00:00:00-04:00\n",
      "Data columns (total 7 columns):\n",
      " #   Column        Non-Null Count  Dtype  \n",
      "---  ------        --------------  -----  \n",
      " 0   Open          3383 non-null   float64\n",
      " 1   High          3383 non-null   float64\n",
      " 2   Low           3383 non-null   float64\n",
      " 3   Close         3383 non-null   float64\n",
      " 4   Volume        3383 non-null   int64  \n",
      " 5   Dividends     3383 non-null   float64\n",
      " 6   Stock Splits  3383 non-null   float64\n",
      "dtypes: float64(6), int64(1)\n",
      "memory usage: 340.5 KB\n"
     ]
    }
   ],
   "source": [
    "price_history.info()"
   ]
  },
  {
   "cell_type": "code",
   "execution_count": 5,
   "metadata": {},
   "outputs": [
    {
     "data": {
      "text/html": [
       "<div>\n",
       "<style scoped>\n",
       "    .dataframe tbody tr th:only-of-type {\n",
       "        vertical-align: middle;\n",
       "    }\n",
       "\n",
       "    .dataframe tbody tr th {\n",
       "        vertical-align: top;\n",
       "    }\n",
       "\n",
       "    .dataframe thead th {\n",
       "        text-align: right;\n",
       "    }\n",
       "</style>\n",
       "<table border=\"1\" class=\"dataframe\">\n",
       "  <thead>\n",
       "    <tr style=\"text-align: right;\">\n",
       "      <th></th>\n",
       "      <th>Open</th>\n",
       "      <th>High</th>\n",
       "      <th>Low</th>\n",
       "      <th>Close</th>\n",
       "      <th>Volume</th>\n",
       "      <th>Dividends</th>\n",
       "      <th>Stock Splits</th>\n",
       "    </tr>\n",
       "    <tr>\n",
       "      <th>Date</th>\n",
       "      <th></th>\n",
       "      <th></th>\n",
       "      <th></th>\n",
       "      <th></th>\n",
       "      <th></th>\n",
       "      <th></th>\n",
       "      <th></th>\n",
       "    </tr>\n",
       "  </thead>\n",
       "  <tbody>\n",
       "    <tr>\n",
       "      <th>2009-12-30 00:00:00-05:00</th>\n",
       "      <td>67.473178</td>\n",
       "      <td>67.781883</td>\n",
       "      <td>67.296779</td>\n",
       "      <td>67.693680</td>\n",
       "      <td>7485540</td>\n",
       "      <td>0.0</td>\n",
       "      <td>0.0</td>\n",
       "    </tr>\n",
       "    <tr>\n",
       "      <th>2009-12-31 00:00:00-05:00</th>\n",
       "      <td>67.340875</td>\n",
       "      <td>67.649574</td>\n",
       "      <td>66.723473</td>\n",
       "      <td>66.723473</td>\n",
       "      <td>7415847</td>\n",
       "      <td>0.0</td>\n",
       "      <td>0.0</td>\n",
       "    </tr>\n",
       "    <tr>\n",
       "      <th>2010-01-04 00:00:00-05:00</th>\n",
       "      <td>67.120340</td>\n",
       "      <td>68.972547</td>\n",
       "      <td>66.811642</td>\n",
       "      <td>68.134644</td>\n",
       "      <td>11170816</td>\n",
       "      <td>0.0</td>\n",
       "      <td>0.0</td>\n",
       "    </tr>\n",
       "    <tr>\n",
       "      <th>2010-01-05 00:00:00-05:00</th>\n",
       "      <td>68.178744</td>\n",
       "      <td>69.104844</td>\n",
       "      <td>68.134642</td>\n",
       "      <td>68.487442</td>\n",
       "      <td>10749611</td>\n",
       "      <td>0.0</td>\n",
       "      <td>0.0</td>\n",
       "    </tr>\n",
       "    <tr>\n",
       "      <th>2010-01-06 00:00:00-05:00</th>\n",
       "      <td>68.487443</td>\n",
       "      <td>68.884344</td>\n",
       "      <td>68.090542</td>\n",
       "      <td>68.134644</td>\n",
       "      <td>9236570</td>\n",
       "      <td>0.0</td>\n",
       "      <td>0.0</td>\n",
       "    </tr>\n",
       "    <tr>\n",
       "      <th>2010-01-07 00:00:00-05:00</th>\n",
       "      <td>68.266942</td>\n",
       "      <td>72.676954</td>\n",
       "      <td>68.046441</td>\n",
       "      <td>71.662651</td>\n",
       "      <td>30886702</td>\n",
       "      <td>0.0</td>\n",
       "      <td>0.0</td>\n",
       "    </tr>\n",
       "    <tr>\n",
       "      <th>2010-01-08 00:00:00-05:00</th>\n",
       "      <td>71.927248</td>\n",
       "      <td>73.603055</td>\n",
       "      <td>71.750848</td>\n",
       "      <td>73.206154</td>\n",
       "      <td>19169701</td>\n",
       "      <td>0.0</td>\n",
       "      <td>0.0</td>\n",
       "    </tr>\n",
       "    <tr>\n",
       "      <th>2010-01-11 00:00:00-05:00</th>\n",
       "      <td>74.220455</td>\n",
       "      <td>74.440956</td>\n",
       "      <td>72.941549</td>\n",
       "      <td>73.911751</td>\n",
       "      <td>12768754</td>\n",
       "      <td>0.0</td>\n",
       "      <td>0.0</td>\n",
       "    </tr>\n",
       "    <tr>\n",
       "      <th>2010-01-12 00:00:00-05:00</th>\n",
       "      <td>73.117953</td>\n",
       "      <td>74.264560</td>\n",
       "      <td>73.073857</td>\n",
       "      <td>73.955856</td>\n",
       "      <td>10761635</td>\n",
       "      <td>0.0</td>\n",
       "      <td>0.0</td>\n",
       "    </tr>\n",
       "    <tr>\n",
       "      <th>2010-01-13 00:00:00-05:00</th>\n",
       "      <td>73.911763</td>\n",
       "      <td>74.617368</td>\n",
       "      <td>73.073865</td>\n",
       "      <td>74.220467</td>\n",
       "      <td>10881470</td>\n",
       "      <td>0.0</td>\n",
       "      <td>0.0</td>\n",
       "    </tr>\n",
       "  </tbody>\n",
       "</table>\n",
       "</div>"
      ],
      "text/plain": [
       "                                Open       High        Low      Close  \\\n",
       "Date                                                                    \n",
       "2009-12-30 00:00:00-05:00  67.473178  67.781883  67.296779  67.693680   \n",
       "2009-12-31 00:00:00-05:00  67.340875  67.649574  66.723473  66.723473   \n",
       "2010-01-04 00:00:00-05:00  67.120340  68.972547  66.811642  68.134644   \n",
       "2010-01-05 00:00:00-05:00  68.178744  69.104844  68.134642  68.487442   \n",
       "2010-01-06 00:00:00-05:00  68.487443  68.884344  68.090542  68.134644   \n",
       "2010-01-07 00:00:00-05:00  68.266942  72.676954  68.046441  71.662651   \n",
       "2010-01-08 00:00:00-05:00  71.927248  73.603055  71.750848  73.206154   \n",
       "2010-01-11 00:00:00-05:00  74.220455  74.440956  72.941549  73.911751   \n",
       "2010-01-12 00:00:00-05:00  73.117953  74.264560  73.073857  73.955856   \n",
       "2010-01-13 00:00:00-05:00  73.911763  74.617368  73.073865  74.220467   \n",
       "\n",
       "                             Volume  Dividends  Stock Splits  \n",
       "Date                                                          \n",
       "2009-12-30 00:00:00-05:00   7485540        0.0           0.0  \n",
       "2009-12-31 00:00:00-05:00   7415847        0.0           0.0  \n",
       "2010-01-04 00:00:00-05:00  11170816        0.0           0.0  \n",
       "2010-01-05 00:00:00-05:00  10749611        0.0           0.0  \n",
       "2010-01-06 00:00:00-05:00   9236570        0.0           0.0  \n",
       "2010-01-07 00:00:00-05:00  30886702        0.0           0.0  \n",
       "2010-01-08 00:00:00-05:00  19169701        0.0           0.0  \n",
       "2010-01-11 00:00:00-05:00  12768754        0.0           0.0  \n",
       "2010-01-12 00:00:00-05:00  10761635        0.0           0.0  \n",
       "2010-01-13 00:00:00-05:00  10881470        0.0           0.0  "
      ]
     },
     "execution_count": 5,
     "metadata": {},
     "output_type": "execute_result"
    }
   ],
   "source": [
    "price_history.head(10)"
   ]
  },
  {
   "cell_type": "code",
   "execution_count": 7,
   "metadata": {},
   "outputs": [
    {
     "data": {
      "image/png": "[encoded data removed]",
      "text/plain": [
       "<Figure size 864x504 with 1 Axes>"
      ]
     },
     "metadata": {},
     "output_type": "display_data"
    }
   ],
   "source": [
    "plt.style.use('fivethirtyeight')\n",
    "plt.rcParams['figure.figsize'] = [12, 7]\n",
    "plt.title(ticker + \" PriceHistory\", size=20)\n",
    "plt.plot(price_history.index,price_history['Close'], color=\"Grey\", linewidth=2)\n",
    "plt.grid(alpha=0)\n",
    "plt.ylabel(\"Price\", size = 20)\n",
    "plt.show()"
   ]
  },
  {
   "attachments": {},
   "cell_type": "markdown",
   "metadata": {},
   "source": [
    "##### A useful metric to predict the General Eletric stock price could be the difference between open and close.\n",
    "\n",
    "##### So let's calculate it and add it to the dataframe"
   ]
  },
  {
   "cell_type": "code",
   "execution_count": 8,
   "metadata": {},
   "outputs": [],
   "source": [
    "price_history['Daily Move'] = abs(price_history['Open'] - price_history['Close'])"
   ]
  },
  {
   "attachments": {},
   "cell_type": "markdown",
   "metadata": {},
   "source": [
    "##### Now let's analyze correlation between volumes and daily move"
   ]
  },
  {
   "cell_type": "code",
   "execution_count": 86,
   "metadata": {},
   "outputs": [
    {
     "data": {
      "image/png": "[encoded data removed]",
      "text/plain": [
       "<Figure size 432x432 with 3 Axes>"
      ]
     },
     "metadata": {},
     "output_type": "display_data"
    }
   ],
   "source": [
    "g = sns.JointGrid(x=\"Volume\", y=\"Daily Move\", data=price_history)\n",
    "sns.color_palette(\"flare\")\n",
    "g = g.plot(sns.regplot, sns.distplot)\n",
    "sns.set(rc={'figure.figsize':(11.7,8.27)})"
   ]
  },
  {
   "attachments": {},
   "cell_type": "markdown",
   "metadata": {},
   "source": [
    "#### Now it's time to analyze distribution of daily returns for the stock price"
   ]
  },
  {
   "cell_type": "code",
   "execution_count": 88,
   "metadata": {},
   "outputs": [
    {
     "data": {
      "text/plain": [
       "<seaborn.axisgrid.FacetGrid at 0x16b19010190>"
      ]
     },
     "execution_count": 88,
     "metadata": {},
     "output_type": "execute_result"
    },
    {
     "data": {
      "image/png": "[encoded data removed]",
      "text/plain": [
       "<Figure size 360x360 with 1 Axes>"
      ]
     },
     "metadata": {},
     "output_type": "display_data"
    }
   ],
   "source": [
    "price_history['Daily Return %'] = pd.Series(price_history['Close']).pct_change()\n",
    "sns.displot(price_history['Daily Return %'], color='g')"
   ]
  },
  {
   "attachments": {},
   "cell_type": "markdown",
   "metadata": {},
   "source": [
    "#### We can now proceed but first let's take a look at the dataframe"
   ]
  },
  {
   "cell_type": "code",
   "execution_count": 11,
   "metadata": {},
   "outputs": [
    {
     "data": {
      "text/html": [
       "<div>\n",
       "<style scoped>\n",
       "    .dataframe tbody tr th:only-of-type {\n",
       "        vertical-align: middle;\n",
       "    }\n",
       "\n",
       "    .dataframe tbody tr th {\n",
       "        vertical-align: top;\n",
       "    }\n",
       "\n",
       "    .dataframe thead th {\n",
       "        text-align: right;\n",
       "    }\n",
       "</style>\n",
       "<table border=\"1\" class=\"dataframe\">\n",
       "  <thead>\n",
       "    <tr style=\"text-align: right;\">\n",
       "      <th></th>\n",
       "      <th>Open</th>\n",
       "      <th>High</th>\n",
       "      <th>Low</th>\n",
       "      <th>Close</th>\n",
       "      <th>Volume</th>\n",
       "      <th>Dividends</th>\n",
       "      <th>Stock Splits</th>\n",
       "      <th>Daily Move</th>\n",
       "      <th>Daily Return %</th>\n",
       "    </tr>\n",
       "    <tr>\n",
       "      <th>Date</th>\n",
       "      <th></th>\n",
       "      <th></th>\n",
       "      <th></th>\n",
       "      <th></th>\n",
       "      <th></th>\n",
       "      <th></th>\n",
       "      <th></th>\n",
       "      <th></th>\n",
       "      <th></th>\n",
       "    </tr>\n",
       "  </thead>\n",
       "  <tbody>\n",
       "    <tr>\n",
       "      <th>2009-12-30 00:00:00-05:00</th>\n",
       "      <td>67.473178</td>\n",
       "      <td>67.781883</td>\n",
       "      <td>67.296779</td>\n",
       "      <td>67.693680</td>\n",
       "      <td>7485540</td>\n",
       "      <td>0.0</td>\n",
       "      <td>0.0</td>\n",
       "      <td>0.220501</td>\n",
       "      <td>NaN</td>\n",
       "    </tr>\n",
       "    <tr>\n",
       "      <th>2009-12-31 00:00:00-05:00</th>\n",
       "      <td>67.340875</td>\n",
       "      <td>67.649574</td>\n",
       "      <td>66.723473</td>\n",
       "      <td>66.723473</td>\n",
       "      <td>7415847</td>\n",
       "      <td>0.0</td>\n",
       "      <td>0.0</td>\n",
       "      <td>0.617403</td>\n",
       "      <td>-0.014332</td>\n",
       "    </tr>\n",
       "    <tr>\n",
       "      <th>2010-01-04 00:00:00-05:00</th>\n",
       "      <td>67.120340</td>\n",
       "      <td>68.972547</td>\n",
       "      <td>66.811642</td>\n",
       "      <td>68.134644</td>\n",
       "      <td>11170816</td>\n",
       "      <td>0.0</td>\n",
       "      <td>0.0</td>\n",
       "      <td>1.014303</td>\n",
       "      <td>0.021150</td>\n",
       "    </tr>\n",
       "    <tr>\n",
       "      <th>2010-01-05 00:00:00-05:00</th>\n",
       "      <td>68.178744</td>\n",
       "      <td>69.104844</td>\n",
       "      <td>68.134642</td>\n",
       "      <td>68.487442</td>\n",
       "      <td>10749611</td>\n",
       "      <td>0.0</td>\n",
       "      <td>0.0</td>\n",
       "      <td>0.308698</td>\n",
       "      <td>0.005178</td>\n",
       "    </tr>\n",
       "    <tr>\n",
       "      <th>2010-01-06 00:00:00-05:00</th>\n",
       "      <td>68.487443</td>\n",
       "      <td>68.884344</td>\n",
       "      <td>68.090542</td>\n",
       "      <td>68.134644</td>\n",
       "      <td>9236570</td>\n",
       "      <td>0.0</td>\n",
       "      <td>0.0</td>\n",
       "      <td>0.352800</td>\n",
       "      <td>-0.005151</td>\n",
       "    </tr>\n",
       "    <tr>\n",
       "      <th>2010-01-07 00:00:00-05:00</th>\n",
       "      <td>68.266942</td>\n",
       "      <td>72.676954</td>\n",
       "      <td>68.046441</td>\n",
       "      <td>71.662651</td>\n",
       "      <td>30886702</td>\n",
       "      <td>0.0</td>\n",
       "      <td>0.0</td>\n",
       "      <td>3.395709</td>\n",
       "      <td>0.051780</td>\n",
       "    </tr>\n",
       "    <tr>\n",
       "      <th>2010-01-08 00:00:00-05:00</th>\n",
       "      <td>71.927248</td>\n",
       "      <td>73.603055</td>\n",
       "      <td>71.750848</td>\n",
       "      <td>73.206154</td>\n",
       "      <td>19169701</td>\n",
       "      <td>0.0</td>\n",
       "      <td>0.0</td>\n",
       "      <td>1.278906</td>\n",
       "      <td>0.021538</td>\n",
       "    </tr>\n",
       "    <tr>\n",
       "      <th>2010-01-11 00:00:00-05:00</th>\n",
       "      <td>74.220455</td>\n",
       "      <td>74.440956</td>\n",
       "      <td>72.941549</td>\n",
       "      <td>73.911751</td>\n",
       "      <td>12768754</td>\n",
       "      <td>0.0</td>\n",
       "      <td>0.0</td>\n",
       "      <td>0.308704</td>\n",
       "      <td>0.009638</td>\n",
       "    </tr>\n",
       "    <tr>\n",
       "      <th>2010-01-12 00:00:00-05:00</th>\n",
       "      <td>73.117953</td>\n",
       "      <td>74.264560</td>\n",
       "      <td>73.073857</td>\n",
       "      <td>73.955856</td>\n",
       "      <td>10761635</td>\n",
       "      <td>0.0</td>\n",
       "      <td>0.0</td>\n",
       "      <td>0.837903</td>\n",
       "      <td>0.000597</td>\n",
       "    </tr>\n",
       "    <tr>\n",
       "      <th>2010-01-13 00:00:00-05:00</th>\n",
       "      <td>73.911763</td>\n",
       "      <td>74.617368</td>\n",
       "      <td>73.073865</td>\n",
       "      <td>74.220467</td>\n",
       "      <td>10881470</td>\n",
       "      <td>0.0</td>\n",
       "      <td>0.0</td>\n",
       "      <td>0.308704</td>\n",
       "      <td>0.003578</td>\n",
       "    </tr>\n",
       "  </tbody>\n",
       "</table>\n",
       "</div>"
      ],
      "text/plain": [
       "                                Open       High        Low      Close  \\\n",
       "Date                                                                    \n",
       "2009-12-30 00:00:00-05:00  67.473178  67.781883  67.296779  67.693680   \n",
       "2009-12-31 00:00:00-05:00  67.340875  67.649574  66.723473  66.723473   \n",
       "2010-01-04 00:00:00-05:00  67.120340  68.972547  66.811642  68.134644   \n",
       "2010-01-05 00:00:00-05:00  68.178744  69.104844  68.134642  68.487442   \n",
       "2010-01-06 00:00:00-05:00  68.487443  68.884344  68.090542  68.134644   \n",
       "2010-01-07 00:00:00-05:00  68.266942  72.676954  68.046441  71.662651   \n",
       "2010-01-08 00:00:00-05:00  71.927248  73.603055  71.750848  73.206154   \n",
       "2010-01-11 00:00:00-05:00  74.220455  74.440956  72.941549  73.911751   \n",
       "2010-01-12 00:00:00-05:00  73.117953  74.264560  73.073857  73.955856   \n",
       "2010-01-13 00:00:00-05:00  73.911763  74.617368  73.073865  74.220467   \n",
       "\n",
       "                             Volume  Dividends  Stock Splits  Daily Move  \\\n",
       "Date                                                                       \n",
       "2009-12-30 00:00:00-05:00   7485540        0.0           0.0    0.220501   \n",
       "2009-12-31 00:00:00-05:00   7415847        0.0           0.0    0.617403   \n",
       "2010-01-04 00:00:00-05:00  11170816        0.0           0.0    1.014303   \n",
       "2010-01-05 00:00:00-05:00  10749611        0.0           0.0    0.308698   \n",
       "2010-01-06 00:00:00-05:00   9236570        0.0           0.0    0.352800   \n",
       "2010-01-07 00:00:00-05:00  30886702        0.0           0.0    3.395709   \n",
       "2010-01-08 00:00:00-05:00  19169701        0.0           0.0    1.278906   \n",
       "2010-01-11 00:00:00-05:00  12768754        0.0           0.0    0.308704   \n",
       "2010-01-12 00:00:00-05:00  10761635        0.0           0.0    0.837903   \n",
       "2010-01-13 00:00:00-05:00  10881470        0.0           0.0    0.308704   \n",
       "\n",
       "                           Daily Return %  \n",
       "Date                                       \n",
       "2009-12-30 00:00:00-05:00             NaN  \n",
       "2009-12-31 00:00:00-05:00       -0.014332  \n",
       "2010-01-04 00:00:00-05:00        0.021150  \n",
       "2010-01-05 00:00:00-05:00        0.005178  \n",
       "2010-01-06 00:00:00-05:00       -0.005151  \n",
       "2010-01-07 00:00:00-05:00        0.051780  \n",
       "2010-01-08 00:00:00-05:00        0.021538  \n",
       "2010-01-11 00:00:00-05:00        0.009638  \n",
       "2010-01-12 00:00:00-05:00        0.000597  \n",
       "2010-01-13 00:00:00-05:00        0.003578  "
      ]
     },
     "execution_count": 11,
     "metadata": {},
     "output_type": "execute_result"
    }
   ],
   "source": [
    "price_history.head(10)"
   ]
  },
  {
   "attachments": {},
   "cell_type": "markdown",
   "metadata": {},
   "source": [
    "#### First row of df is NaN so it will be dropped"
   ]
  },
  {
   "cell_type": "code",
   "execution_count": 13,
   "metadata": {},
   "outputs": [],
   "source": [
    "price_history.drop(price_history.index[0], axis=0, inplace=True)"
   ]
  },
  {
   "attachments": {},
   "cell_type": "markdown",
   "metadata": {},
   "source": [
    "## Model Elaborating\n",
    "\n",
    "#### Starting to build the testing environment for the model.\n",
    "\n",
    "#### Importing Sklearn Libraries, we will use the Random Forest Regressor to make our predictions.\n",
    "#### You can discover more about Random Forest Regressor [here](https://en.wikipedia.org/wiki/Random_forest)."
   ]
  },
  {
   "cell_type": "code",
   "execution_count": 14,
   "metadata": {},
   "outputs": [],
   "source": [
    "import sklearn\n",
    "from sklearn.model_selection import train_test_split\n",
    "from sklearn.ensemble import RandomForestRegressor"
   ]
  },
  {
   "attachments": {},
   "cell_type": "markdown",
   "metadata": {},
   "source": [
    "#### We are going to create a new column of the dataframe which contains the shifted value of the close column.\n",
    "#### This value represents the next day close, the value we want to predict."
   ]
  },
  {
   "cell_type": "code",
   "execution_count": 15,
   "metadata": {},
   "outputs": [],
   "source": [
    "price_history['Shifted_Close'] = price_history['Close'].shift(-1)"
   ]
  },
  {
   "attachments": {},
   "cell_type": "markdown",
   "metadata": {},
   "source": [
    "You can see how it works here in a small portion of the dataset."
   ]
  },
  {
   "cell_type": "code",
   "execution_count": 16,
   "metadata": {},
   "outputs": [
    {
     "data": {
      "text/html": [
       "<div>\n",
       "<style scoped>\n",
       "    .dataframe tbody tr th:only-of-type {\n",
       "        vertical-align: middle;\n",
       "    }\n",
       "\n",
       "    .dataframe tbody tr th {\n",
       "        vertical-align: top;\n",
       "    }\n",
       "\n",
       "    .dataframe thead th {\n",
       "        text-align: right;\n",
       "    }\n",
       "</style>\n",
       "<table border=\"1\" class=\"dataframe\">\n",
       "  <thead>\n",
       "    <tr style=\"text-align: right;\">\n",
       "      <th></th>\n",
       "      <th>Close</th>\n",
       "      <th>Shifted_Close</th>\n",
       "    </tr>\n",
       "    <tr>\n",
       "      <th>Date</th>\n",
       "      <th></th>\n",
       "      <th></th>\n",
       "    </tr>\n",
       "  </thead>\n",
       "  <tbody>\n",
       "    <tr>\n",
       "      <th>2009-12-31 00:00:00-05:00</th>\n",
       "      <td>66.723473</td>\n",
       "      <td>68.134644</td>\n",
       "    </tr>\n",
       "    <tr>\n",
       "      <th>2010-01-04 00:00:00-05:00</th>\n",
       "      <td>68.134644</td>\n",
       "      <td>68.487442</td>\n",
       "    </tr>\n",
       "    <tr>\n",
       "      <th>2010-01-05 00:00:00-05:00</th>\n",
       "      <td>68.487442</td>\n",
       "      <td>68.134644</td>\n",
       "    </tr>\n",
       "    <tr>\n",
       "      <th>2010-01-06 00:00:00-05:00</th>\n",
       "      <td>68.134644</td>\n",
       "      <td>71.662651</td>\n",
       "    </tr>\n",
       "    <tr>\n",
       "      <th>2010-01-07 00:00:00-05:00</th>\n",
       "      <td>71.662651</td>\n",
       "      <td>73.206154</td>\n",
       "    </tr>\n",
       "    <tr>\n",
       "      <th>2010-01-08 00:00:00-05:00</th>\n",
       "      <td>73.206154</td>\n",
       "      <td>73.911751</td>\n",
       "    </tr>\n",
       "    <tr>\n",
       "      <th>2010-01-11 00:00:00-05:00</th>\n",
       "      <td>73.911751</td>\n",
       "      <td>73.955856</td>\n",
       "    </tr>\n",
       "    <tr>\n",
       "      <th>2010-01-12 00:00:00-05:00</th>\n",
       "      <td>73.955856</td>\n",
       "      <td>74.220467</td>\n",
       "    </tr>\n",
       "    <tr>\n",
       "      <th>2010-01-13 00:00:00-05:00</th>\n",
       "      <td>74.220467</td>\n",
       "      <td>73.647156</td>\n",
       "    </tr>\n",
       "    <tr>\n",
       "      <th>2010-01-14 00:00:00-05:00</th>\n",
       "      <td>73.647156</td>\n",
       "      <td>72.500542</td>\n",
       "    </tr>\n",
       "  </tbody>\n",
       "</table>\n",
       "</div>"
      ],
      "text/plain": [
       "                               Close  Shifted_Close\n",
       "Date                                               \n",
       "2009-12-31 00:00:00-05:00  66.723473      68.134644\n",
       "2010-01-04 00:00:00-05:00  68.134644      68.487442\n",
       "2010-01-05 00:00:00-05:00  68.487442      68.134644\n",
       "2010-01-06 00:00:00-05:00  68.134644      71.662651\n",
       "2010-01-07 00:00:00-05:00  71.662651      73.206154\n",
       "2010-01-08 00:00:00-05:00  73.206154      73.911751\n",
       "2010-01-11 00:00:00-05:00  73.911751      73.955856\n",
       "2010-01-12 00:00:00-05:00  73.955856      74.220467\n",
       "2010-01-13 00:00:00-05:00  74.220467      73.647156\n",
       "2010-01-14 00:00:00-05:00  73.647156      72.500542"
      ]
     },
     "execution_count": 16,
     "metadata": {},
     "output_type": "execute_result"
    }
   ],
   "source": [
    "price_history[['Close', 'Shifted_Close']].head(10)"
   ]
  },
  {
   "attachments": {},
   "cell_type": "markdown",
   "metadata": {},
   "source": [
    "Now it's necessary to remove the last row of the dataframe, which will be of course NaN in the shifted column"
   ]
  },
  {
   "cell_type": "code",
   "execution_count": 17,
   "metadata": {},
   "outputs": [],
   "source": [
    "price_history.drop(price_history.tail(1).index, axis=0, inplace=True)"
   ]
  },
  {
   "attachments": {},
   "cell_type": "markdown",
   "metadata": {},
   "source": [
    "#### Now we will divide the dataset in two parts: X (input features) and Y (target variable). \n",
    "X represents the data used to make predictions, while Y represents the desired outcome or variable to be predicted. \n",
    "\n",
    "This separation allows the model to learn the relationship between the input features and the target variable, enabling it to make accurate predictions based on the learned patterns."
   ]
  },
  {
   "cell_type": "code",
   "execution_count": 18,
   "metadata": {},
   "outputs": [],
   "source": [
    "x = price_history.reset_index(inplace=False)\n",
    "y = price_history['Shifted_Close'].reset_index()"
   ]
  },
  {
   "attachments": {},
   "cell_type": "markdown",
   "metadata": {},
   "source": [
    "Removing the next day close (Y) from the X data, otherwise our prediction would be obviously always correct."
   ]
  },
  {
   "cell_type": "code",
   "execution_count": 19,
   "metadata": {},
   "outputs": [],
   "source": [
    "x.drop(['Date', 'Shifted_Close'], axis=1, inplace=True)"
   ]
  },
  {
   "cell_type": "code",
   "execution_count": 20,
   "metadata": {},
   "outputs": [],
   "source": [
    "y.drop('Date', axis=1,inplace=True)"
   ]
  },
  {
   "cell_type": "code",
   "execution_count": 21,
   "metadata": {},
   "outputs": [
    {
     "name": "stdout",
     "output_type": "stream",
     "text": [
      "<class 'pandas.core.frame.DataFrame'>\n",
      "RangeIndex: 3381 entries, 0 to 3380\n",
      "Data columns (total 1 columns):\n",
      " #   Column         Non-Null Count  Dtype  \n",
      "---  ------         --------------  -----  \n",
      " 0   Shifted_Close  3381 non-null   float64\n",
      "dtypes: float64(1)\n",
      "memory usage: 26.5 KB\n"
     ]
    }
   ],
   "source": [
    "y.info()"
   ]
  },
  {
   "attachments": {},
   "cell_type": "markdown",
   "metadata": {},
   "source": [
    "Train_Test_Split is a function of Sklearn which will divide data into a smaller portion. \n",
    "\n",
    "We are using test_size = 0.35 so it means that our \"small\" portion will correspond to 35% of our original dataframe"
   ]
  },
  {
   "cell_type": "code",
   "execution_count": 22,
   "metadata": {},
   "outputs": [],
   "source": [
    "x_train, x_test, y_train, y_test = train_test_split(x, y, test_size=0.35)"
   ]
  },
  {
   "attachments": {},
   "cell_type": "markdown",
   "metadata": {},
   "source": [
    "## Since we have now our test envoirment ready, it's time to fit the model"
   ]
  },
  {
   "cell_type": "code",
   "execution_count": 23,
   "metadata": {},
   "outputs": [
    {
     "data": {
      "text/html": [
       "<style>#sk-container-id-1 {color: black;background-color: white;}#sk-container-id-1 pre{padding: 0;}#sk-container-id-1 div.sk-toggleable {background-color: white;}#sk-container-id-1 label.sk-toggleable__label {cursor: pointer;display: block;width: 100%;margin-bottom: 0;padding: 0.3em;box-sizing: border-box;text-align: center;}#sk-container-id-1 label.sk-toggleable__label-arrow:before {content: \"▸\";float: left;margin-right: 0.25em;color: #696969;}#sk-container-id-1 label.sk-toggleable__label-arrow:hover:before {color: black;}#sk-container-id-1 div.sk-estimator:hover label.sk-toggleable__label-arrow:before {color: black;}#sk-container-id-1 div.sk-toggleable__content {max-height: 0;max-width: 0;overflow: hidden;text-align: left;background-color: #f0f8ff;}#sk-container-id-1 div.sk-toggleable__content pre {margin: 0.2em;color: black;border-radius: 0.25em;background-color: #f0f8ff;}#sk-container-id-1 input.sk-toggleable__control:checked~div.sk-toggleable__content {max-height: 200px;max-width: 100%;overflow: auto;}#sk-container-id-1 input.sk-toggleable__control:checked~label.sk-toggleable__label-arrow:before {content: \"▾\";}#sk-container-id-1 div.sk-estimator input.sk-toggleable__control:checked~label.sk-toggleable__label {background-color: #d4ebff;}#sk-container-id-1 div.sk-label input.sk-toggleable__control:checked~label.sk-toggleable__label {background-color: #d4ebff;}#sk-container-id-1 input.sk-hidden--visually {border: 0;clip: rect(1px 1px 1px 1px);clip: rect(1px, 1px, 1px, 1px);height: 1px;margin: -1px;overflow: hidden;padding: 0;position: absolute;width: 1px;}#sk-container-id-1 div.sk-estimator {font-family: monospace;background-color: #f0f8ff;border: 1px dotted black;border-radius: 0.25em;box-sizing: border-box;margin-bottom: 0.5em;}#sk-container-id-1 div.sk-estimator:hover {background-color: #d4ebff;}#sk-container-id-1 div.sk-parallel-item::after {content: \"\";width: 100%;border-bottom: 1px solid gray;flex-grow: 1;}#sk-container-id-1 div.sk-label:hover label.sk-toggleable__label {background-color: #d4ebff;}#sk-container-id-1 div.sk-serial::before {content: \"\";position: absolute;border-left: 1px solid gray;box-sizing: border-box;top: 0;bottom: 0;left: 50%;z-index: 0;}#sk-container-id-1 div.sk-serial {display: flex;flex-direction: column;align-items: center;background-color: white;padding-right: 0.2em;padding-left: 0.2em;position: relative;}#sk-container-id-1 div.sk-item {position: relative;z-index: 1;}#sk-container-id-1 div.sk-parallel {display: flex;align-items: stretch;justify-content: center;background-color: white;position: relative;}#sk-container-id-1 div.sk-item::before, #sk-container-id-1 div.sk-parallel-item::before {content: \"\";position: absolute;border-left: 1px solid gray;box-sizing: border-box;top: 0;bottom: 0;left: 50%;z-index: -1;}#sk-container-id-1 div.sk-parallel-item {display: flex;flex-direction: column;z-index: 1;position: relative;background-color: white;}#sk-container-id-1 div.sk-parallel-item:first-child::after {align-self: flex-end;width: 50%;}#sk-container-id-1 div.sk-parallel-item:last-child::after {align-self: flex-start;width: 50%;}#sk-container-id-1 div.sk-parallel-item:only-child::after {width: 0;}#sk-container-id-1 div.sk-dashed-wrapped {border: 1px dashed gray;margin: 0 0.4em 0.5em 0.4em;box-sizing: border-box;padding-bottom: 0.4em;background-color: white;}#sk-container-id-1 div.sk-label label {font-family: monospace;font-weight: bold;display: inline-block;line-height: 1.2em;}#sk-container-id-1 div.sk-label-container {text-align: center;}#sk-container-id-1 div.sk-container {/* jupyter's `normalize.less` sets `[hidden] { display: none; }` but bootstrap.min.css set `[hidden] { display: none !important; }` so we also need the `!important` here to be able to override the default hidden behavior on the sphinx rendered scikit-learn.org. See: https://github.com/scikit-learn/scikit-learn/issues/21755 */display: inline-block !important;position: relative;}#sk-container-id-1 div.sk-text-repr-fallback {display: none;}</style><div id=\"sk-container-id-1\" class=\"sk-top-container\"><div class=\"sk-text-repr-fallback\"><pre>RandomForestRegressor(n_estimators=200)</pre><b>In a Jupyter environment, please rerun this cell to show the HTML representation or trust the notebook. <br />On GitHub, the HTML representation is unable to render, please try loading this page with nbviewer.org.</b></div><div class=\"sk-container\" hidden><div class=\"sk-item\"><div class=\"sk-estimator sk-toggleable\"><input class=\"sk-toggleable__control sk-hidden--visually\" id=\"sk-estimator-id-1\" type=\"checkbox\" checked><label for=\"sk-estimator-id-1\" class=\"sk-toggleable__label sk-toggleable__label-arrow\">RandomForestRegressor</label><div class=\"sk-toggleable__content\"><pre>RandomForestRegressor(n_estimators=200)</pre></div></div></div></div></div>"
      ],
      "text/plain": [
       "RandomForestRegressor(n_estimators=200)"
      ]
     },
     "execution_count": 23,
     "metadata": {},
     "output_type": "execute_result"
    }
   ],
   "source": [
    "rfr = RandomForestRegressor(n_estimators=200)\n",
    "rfr.fit(x_train, y_train)"
   ]
  },
  {
   "attachments": {},
   "cell_type": "markdown",
   "metadata": {},
   "source": [
    "## Generating predictions"
   ]
  },
  {
   "cell_type": "code",
   "execution_count": 24,
   "metadata": {},
   "outputs": [],
   "source": [
    "predictions = rfr.predict(x_test)"
   ]
  },
  {
   "attachments": {},
   "cell_type": "markdown",
   "metadata": {},
   "source": [
    "#### Now we are importing the module needed to valuate the model performance"
   ]
  },
  {
   "cell_type": "code",
   "execution_count": 25,
   "metadata": {},
   "outputs": [],
   "source": [
    "from sklearn import metrics"
   ]
  },
  {
   "attachments": {},
   "cell_type": "markdown",
   "metadata": {},
   "source": [
    "Since GE is not very volatile, I will use MAE (Median Absolute Error) as the evaluation metric for the model.\n",
    "\n",
    "MAE is suitable for measuring the accuracy of variables like stock prices."
   ]
  },
  {
   "cell_type": "code",
   "execution_count": 26,
   "metadata": {},
   "outputs": [
    {
     "name": "stdout",
     "output_type": "stream",
     "text": [
      "Model Evaluation:\n",
      "MAE: 1.247\n"
     ]
    }
   ],
   "source": [
    "print(\"Model Evaluation:\")\n",
    "\n",
    "print('MAE:', round(metrics.mean_absolute_error(y_test, predictions),4))"
   ]
  },
  {
   "attachments": {},
   "cell_type": "markdown",
   "metadata": {},
   "source": [
    "#### Our result is not bad if compared to the actual Standard Deviation of the stock:"
   ]
  },
  {
   "cell_type": "code",
   "execution_count": 81,
   "metadata": {},
   "outputs": [
    {
     "name": "stdout",
     "output_type": "stream",
     "text": [
      "Mean of annual Standard Deviation while 2010-2023 is: 9.41\n"
     ]
    }
   ],
   "source": [
    "price_history.index = pd.to_datetime(price_history.index)\n",
    "price_history['Year'], std_array = price_history.index.year, []\n",
    "\n",
    "for year in price_history['Year'].unique():\n",
    "    std_array.append(pd.Series(price_history[price_history['Year'] == year]['Close']).std())\n",
    "\n",
    "standard_deviation = pd.Series(std_array).mean()\n",
    "\n",
    "print('Mean of annual Standard Deviation while 2010-2023 is:',round(standard_deviation,2))"
   ]
  },
  {
   "attachments": {},
   "cell_type": "markdown",
   "metadata": {},
   "source": [
    "### This is my first project operating a supervised learning model in real scenarios, it's very amateur and I will certainly have the opportunity to try again, in the future, with far more experience and knowledge. "
   ]
  }
 ],
 "metadata": {
  "kernelspec": {
   "display_name": "Python 3",
   "language": "python",
   "name": "python3"
  },
  "language_info": {
   "codemirror_mode": {
    "name": "ipython",
    "version": 3
   },
   "file_extension": ".py",
   "mimetype": "text/x-python",
   "name": "python",
   "nbconvert_exporter": "python",
   "pygments_lexer": "ipython3",
   "version": "3.10.2"
  },
  "orig_nbformat": 4
 },
 "nbformat": 4,
 "nbformat_minor": 2
}
